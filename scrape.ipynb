{
 "cells": [
  {
   "cell_type": "code",
   "execution_count": null,
   "id": "0",
   "metadata": {},
   "outputs": [],
   "source": [
    "import requests\n",
    "from bs4 import BeautifulSoup"
   ]
  },
  {
   "cell_type": "markdown",
   "id": "1",
   "metadata": {},
   "source": [
    "Getting product links"
   ]
  },
  {
   "cell_type": "code",
   "execution_count": null,
   "id": "2",
   "metadata": {},
   "outputs": [],
   "source": [
    "# sorted by article number, using 1000 for n_articles but max seems to be 100 internally\n",
    "i = 1\n",
    "r = requests.get(f\"https://erotikfactory.ch/Dildos_s{i}?Sortierung=7&af=1000\")\n",
    "r"
   ]
  },
  {
   "cell_type": "code",
   "execution_count": null,
   "id": "3",
   "metadata": {},
   "outputs": [],
   "source": [
    "soup = BeautifulSoup(r.content)\n",
    "soup"
   ]
  },
  {
   "cell_type": "code",
   "execution_count": null,
   "id": "4",
   "metadata": {},
   "outputs": [],
   "source": [
    "bar = soup.find(id=\"result-wrapper\").find(\"hr\").find_previous_sibling()\n",
    "n_products = list(bar.children)[1].text\n",
    "n_products = int(n_products.split()[-1])\n",
    "n_products"
   ]
  },
  {
   "cell_type": "code",
   "execution_count": null,
   "id": "5",
   "metadata": {},
   "outputs": [],
   "source": [
    "product_list = soup.find(id=\"product-list\")\n",
    "product_list"
   ]
  },
  {
   "cell_type": "code",
   "execution_count": null,
   "id": "6",
   "metadata": {},
   "outputs": [],
   "source": [
    "for div in product_list:\n",
    "    url = div.find(\"meta\", itemprop=\"url\")['content']\n",
    "    print(url)"
   ]
  },
  {
   "cell_type": "code",
   "execution_count": null,
   "id": "7",
   "metadata": {},
   "outputs": [],
   "source": [
    "len(product_list)"
   ]
  },
  {
   "cell_type": "markdown",
   "id": "8",
   "metadata": {},
   "source": [
    "Parsing products"
   ]
  },
  {
   "cell_type": "code",
   "execution_count": null,
   "id": "9",
   "metadata": {},
   "outputs": [],
   "source": [
    "r = requests.get(\"https://erotikfactory.ch/MALESATION-Olly-Silikon-Dildo-Small-Rot\")\n",
    "r.raise_for_status()\n",
    "soup = BeautifulSoup(r.content)"
   ]
  },
  {
   "cell_type": "code",
   "execution_count": null,
   "id": "10",
   "metadata": {},
   "outputs": [],
   "source": [
    "offer = soup.find(id=\"product-offer\")\n",
    "# first child is gallery, second prod info\n",
    "inner_prod_info = list(offer.children)[1].div\n",
    "\n",
    "desc = inner_prod_info.find(itemprop=\"description\")\n",
    "features = desc.ul.extract()\n",
    "prod = {\"title\": inner_prod_info.find(itemprop=\"name\").text, \"sku\": int(inner_prod_info.find(itemprop=\"sku\").text),\n",
    "        \"category\": inner_prod_info.find(itemprop=\"category\").text,\n",
    "        \"brand\": inner_prod_info.find(itemprop=\"brand\").find(itemprop=\"name\").text, \"full_description\": desc.text,\n",
    "        \"description\": desc.text, \"features\": [li.text for li in features.find_all(\"li\")]}\n",
    "\n",
    "prod"
   ]
  },
  {
   "cell_type": "code",
   "id": "11",
   "metadata": {},
   "outputs": [],
   "source": []
  }
 ],
 "metadata": {
  "kernelspec": {
   "display_name": "erotik_factory_scraper",
   "language": "python",
   "name": "erotik_factory_scraper"
  },
  "language_info": {
   "codemirror_mode": {
    "name": "ipython",
    "version": 2
   },
   "file_extension": ".py",
   "mimetype": "text/x-python",
   "name": "python",
   "nbconvert_exporter": "python",
   "pygments_lexer": "ipython2",
   "version": "2.7.6"
  }
 },
 "nbformat": 4,
 "nbformat_minor": 5
}
